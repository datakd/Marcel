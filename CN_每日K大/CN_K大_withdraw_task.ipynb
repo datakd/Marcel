{
 "cells": [
  {
   "cell_type": "code",
   "execution_count": 13,
   "metadata": {},
   "outputs": [],
   "source": [
    "from sqlalchemy import create_engine\n",
    "import pandas as pd\n",
    "import json\n",
    "import requests\n",
    "import time\n",
    "import threading\n",
    "from datetime import datetime, timedelta\n",
    "from concurrent.futures import ThreadPoolExecutor"
   ]
  },
  {
   "cell_type": "code",
   "execution_count": 14,
   "metadata": {},
   "outputs": [
    {
     "name": "stdout",
     "output_type": "stream",
     "text": [
      "{'access_token': '886ca7301e33b18c18c3c88e3bc429308ae46718598503f203b90ba5c4bd8f10.MjM2OTI2Njk5ODU2MzExMw==0', 'token_type': 'Bearer', 'expires_in': 86399, 'scope': 'all prm crm', 'tenant_id': '2369266998563113', 'login_type': '', 'encryption_key': '', 'client_id': '473f31e3a6cb9cafaec3ddf36d20092b', 'passport_id': '3052172005298442', 'mobile_params': '', 'instance_uri': 'api-scrm.xiaoshouyi.com'}\n",
      "886ca7301e33b18c18c3c88e3bc429308ae46718598503f203b90ba5c4bd8f10.MjM2OTI2Njk5ODU2MzExMw==0\n"
     ]
    }
   ],
   "source": [
    "# 取得 Token , 設置請求參數 (大陸)\n",
    "url = \"https://login.xiaoshouyi.com/auc/oauth2/token\"\n",
    "headers = {\n",
    "    \"Content-Type\": \"application/x-www-form-urlencoded\"\n",
    "}\n",
    "data = {\n",
    "    \"grant_type\": \"password\",\n",
    "    \"client_id\": \"473f31e3a6cb9cafaec3ddf36d20092b\",\n",
    "    \"client_secret\": \"ddfed65f5aeebacd0f54eaa464fcb043\",\n",
    "    \"redirect_uri\": \"https://api-scrm.xiaoshouyi.com/\",\n",
    "    \"username\": \"11021041@twkd.com\",\n",
    "    \"password\": \"Marcellin01oiH88cCI\"\n",
    "}\n",
    "\n",
    "# 發送 post 請求\n",
    "response = requests.post(url, headers=headers, data=data)\n",
    "\n",
    "if response.status_code == 200:\n",
    "    print(response.json())\n",
    "else:\n",
    "    print(\"請求失敗, 狀態碼:\", response.status_code)\n",
    "\n",
    "content = response.json()\n",
    "ac_token = content[\"access_token\"]\n",
    "\n",
    "\n",
    "print(ac_token)"
   ]
  },
  {
   "cell_type": "code",
   "execution_count": 25,
   "metadata": {},
   "outputs": [
    {
     "data": {
      "application/vnd.microsoft.datawrangler.viewer.v0+json": {
       "columns": [
        {
         "name": "index",
         "rawType": "int64",
         "type": "integer"
        },
        {
         "name": "id",
         "rawType": "object",
         "type": "unknown"
        },
        {
         "name": "name",
         "rawType": "object",
         "type": "unknown"
        },
        {
         "name": "customItem10__c",
         "rawType": "object",
         "type": "unknown"
        },
        {
         "name": "customItem3__c",
         "rawType": "object",
         "type": "unknown"
        },
        {
         "name": "workflowStageName",
         "rawType": "object",
         "type": "unknown"
        },
        {
         "name": "approvalStatus",
         "rawType": "object",
         "type": "unknown"
        },
        {
         "name": "customItem8__c",
         "rawType": "object",
         "type": "unknown"
        },
        {
         "name": "customItem58__c",
         "rawType": "object",
         "type": "unknown"
        }
       ],
       "conversionMethod": "pd.DataFrame",
       "ref": "a6ad0dab-080c-4243-bd76-5d9692f8c073",
       "rows": [],
       "shape": {
        "columns": 8,
        "rows": 0
       }
      },
      "text/html": [
       "<div>\n",
       "<style scoped>\n",
       "    .dataframe tbody tr th:only-of-type {\n",
       "        vertical-align: middle;\n",
       "    }\n",
       "\n",
       "    .dataframe tbody tr th {\n",
       "        vertical-align: top;\n",
       "    }\n",
       "\n",
       "    .dataframe thead th {\n",
       "        text-align: right;\n",
       "    }\n",
       "</style>\n",
       "<table border=\"1\" class=\"dataframe\">\n",
       "  <thead>\n",
       "    <tr style=\"text-align: right;\">\n",
       "      <th></th>\n",
       "      <th>id</th>\n",
       "      <th>name</th>\n",
       "      <th>customItem10__c</th>\n",
       "      <th>customItem3__c</th>\n",
       "      <th>workflowStageName</th>\n",
       "      <th>approvalStatus</th>\n",
       "      <th>customItem8__c</th>\n",
       "      <th>customItem58__c</th>\n",
       "    </tr>\n",
       "  </thead>\n",
       "  <tbody>\n",
       "  </tbody>\n",
       "</table>\n",
       "</div>"
      ],
      "text/plain": [
       "Empty DataFrame\n",
       "Columns: [id, name, customItem10__c, customItem3__c, workflowStageName, approvalStatus, customItem8__c, customItem58__c]\n",
       "Index: []"
      ]
     },
     "execution_count": 25,
     "metadata": {},
     "output_type": "execute_result"
    }
   ],
   "source": [
    "'''\n",
    "select from Tasks withdraw \n",
    "'''\n",
    "url_2 = \"https://api-scrm.xiaoshouyi.com/rest/data/v2.0/query/xoqlScroll\"\n",
    "headers = {\n",
    "    \"Authorization\": f\"Bearer {ac_token}\",\n",
    "    \"Content-Type\":\"application/x-www-form-urlencoded\"\n",
    "}\n",
    "queryLocator = ''\n",
    "Tasks_df1 = pd.DataFrame()\n",
    "\n",
    "date_to_convert = datetime(2024, 3, 19) \n",
    "\n",
    "# date_to_convert = datetime(2024, 8, 12) \n",
    "timestamp = int(date_to_convert.timestamp() * 1000)\n",
    "\n",
    "while True:\n",
    "    data = {\n",
    "        \"xoql\": f'''\n",
    "        SELECT id,\n",
    "        name,\n",
    "        customItem10__c, \n",
    "        customItem3__c,\n",
    "        workflowStageName,\n",
    "        approvalStatus,\n",
    "        customItem8__c,\n",
    "        customItem58__c\n",
    "        FROM customEntity14__c\n",
    "        WHERE entityType = '3074631761565155' \n",
    "        AND createdBy = '3052177351988706' \n",
    "        AND createdAt >= {timestamp}\n",
    "        ''',\n",
    "        \"batchCount\": 2000,\n",
    "        \"queryLocator\": queryLocator\n",
    "    }\n",
    "    response = requests.post(url_2, headers=headers, data=data)\n",
    "    crm = response.json()\n",
    "    data = pd.DataFrame(crm[\"data\"][\"records\"])\n",
    "    Tasks_df1 = pd.concat([Tasks_df1, data], ignore_index=True, sort=False)\n",
    "    \n",
    "    if not crm['queryLocator']:\n",
    "        break\n",
    "    queryLocator = crm['queryLocator']\n",
    "    \n",
    "Tasks_df1['customItem8__c']= Tasks_df1['customItem8__c'].astype(str)\n",
    "Tasks_df1['approvalStatus']= Tasks_df1['approvalStatus'].astype(str)\n",
    "Tasks_df1 = Tasks_df1.loc[Tasks_df1['customItem8__c'].str.contains(\"等待\")]  \n",
    "Tasks_df1 = Tasks_df1.loc[~Tasks_df1['customItem8__c'].str.contains(\"进行中\")]  \n",
    "Tasks_df1 = Tasks_df1.loc[~Tasks_df1['approvalStatus'].str.contains(\"审批通过\")]  \n",
    "\n",
    "# 電訪狀態 != 已邀約但時間待定 -> 大陸改為判斷\"工作主旨\"\n",
    "Tasks_df1['customItem3__c']= Tasks_df1['customItem3__c'].astype(str)\n",
    "Tasks_df1 = Tasks_df1.loc[~Tasks_df1['customItem3__c'].str.contains(\"已邀|K大-客户未上线\", regex=True)] # 回放\n",
    "\n",
    "Tasks_df1"
   ]
  },
  {
   "cell_type": "code",
   "execution_count": 21,
   "metadata": {},
   "outputs": [
    {
     "name": "stdout",
     "output_type": "stream",
     "text": [
      "3720175876690718\n",
      "3720175876690719\n",
      "3720177717826359\n",
      "3720175876690720\n",
      "3720177713615654\n",
      "3720175876690723\n",
      "3720297003210195\n",
      "3720175876690732\n",
      "3720177713615679\n",
      "3720175877378862\n",
      "3720177739436851\n",
      "3720175879771627\n",
      "3720178044605213\n",
      "3720175930888978\n",
      "3720297088275205\n",
      "3720175932741063\n",
      "3720178784245226\n",
      "3720175932741066\n",
      "3720178851353375\n",
      "3720175932741081\n",
      "3720178845062654\n",
      "3720175933674951\n",
      "3720178887284217\n",
      "3720178865395180\n"
     ]
    }
   ],
   "source": [
    "'''\n",
    "get procInstId\n",
    "'''\n",
    "Tasks_df2 = Tasks_df1[['id']]\n",
    "base_url = \"https://api-scrm.xiaoshouyi.com/rest/data/v2.0/creekflow/history/filter?entityApiKey=customEntity14__c&dataId=\"\n",
    "\n",
    "def fetch_data(data_id):\n",
    "    print(data_id)\n",
    "    api_url = f\"{base_url}{data_id}&stageFlg=false\"\n",
    "    response = requests.get(api_url, headers=headers)\n",
    "    if response.status_code == 200:\n",
    "        api_data = response.json()\n",
    "        if api_data[\"data\"]:\n",
    "          print(api_data[\"data\"][-1][\"procInstId\"])\n",
    "          return json.dumps({ \"dataId\": data_id, \"procInstId\": api_data[\"data\"][-1][\"procInstId\"] })\n",
    "          # df = pd.DataFrame(api_data[\"data\"][0][\"procInstId\"], dtype=str)\n",
    "        else:\n",
    "            print(\"Data is empty\")\n",
    "            return\n",
    "    else:\n",
    "        print(f\"Error accessing API for dataId {data_id}. Status code: {response.status_code}\")\n",
    "        # return pd.DataFrame()\n",
    "        return\n",
    "    \n",
    "\n",
    "# Set the maximum number of threads you want to use\n",
    "max_threads = 2  # You can adjust this based on your needs\n",
    "\n",
    "\n",
    "with ThreadPoolExecutor(max_threads) as executor:\n",
    "    # Use executor.map to asynchronously fetch data for each row in parallel\n",
    "    dfs = list(executor.map(fetch_data, Tasks_df2['id']))\n",
    "    # Add a time delay between each thread\n",
    "\n",
    "json_data = [entry for entry in dfs if entry is not None]\n",
    "Tasks_df2 = pd.json_normalize([json.loads(entry) for entry in json_data])"
   ]
  },
  {
   "cell_type": "code",
   "execution_count": 22,
   "metadata": {},
   "outputs": [
    {
     "name": "stdout",
     "output_type": "stream",
     "text": [
      "Response for dataId 3720175876690718: {'code': '200', 'msg': 'OK', 'data': None, 'errorInfo': None}\n",
      "Response for dataId 3720175876690719: {'code': '200', 'msg': 'OK', 'data': None, 'errorInfo': None}\n",
      "Response for dataId 3720175876690720: {'code': '200', 'msg': 'OK', 'data': None, 'errorInfo': None}\n",
      "Response for dataId 3720175876690723: {'code': '200', 'msg': 'OK', 'data': None, 'errorInfo': None}\n",
      "Response for dataId 3720175876690732: {'code': '200', 'msg': 'OK', 'data': None, 'errorInfo': None}\n",
      "Response for dataId 3720175877378862: {'code': '200', 'msg': 'OK', 'data': None, 'errorInfo': None}\n",
      "Response for dataId 3720175879771627: {'code': '200', 'msg': 'OK', 'data': None, 'errorInfo': None}\n",
      "Response for dataId 3720175930888978: {'code': '200', 'msg': 'OK', 'data': None, 'errorInfo': None}\n",
      "Response for dataId 3720175932741066: {'code': '200', 'msg': 'OK', 'data': None, 'errorInfo': None}\n",
      "Response for dataId 3720175932741063: {'code': '200', 'msg': 'OK', 'data': None, 'errorInfo': None}\n",
      "Response for dataId 3720175932741081: {'code': '200', 'msg': 'OK', 'data': None, 'errorInfo': None}\n",
      "Response for dataId 3720175933674951: {'code': '200', 'msg': 'OK', 'data': None, 'errorInfo': None}\n"
     ]
    }
   ],
   "source": [
    "'''\n",
    "withdraw_task\n",
    "'''\n",
    "\n",
    "def withdraw_task(row):\n",
    "    data_id = row['dataId']\n",
    "    task_id = row['procInstId']\n",
    "    url_2 = \"https://api-scrm.xiaoshouyi.com/rest/data/v2.0/creekflow/task\"\n",
    "    headers = {\n",
    "        \"Authorization\": f\"Bearer {ac_token}\",\n",
    "        \"Content-Type\": \"application/json\"\n",
    "    }\n",
    "    data = {\n",
    "        \"data\": {\n",
    "            \"action\": \"withdraw\",\n",
    "            \"entityApiKey\": \"customEntity14__c\",\n",
    "            \"dataId\": data_id,\n",
    "            \"procInstId\": task_id\n",
    "        }\n",
    "    }\n",
    "\n",
    "    response = requests.post(url_2, headers=headers, json=data)\n",
    "    result = response.json()\n",
    "    print(f\"Response for dataId {data_id}: {result}\")\n",
    "\n",
    "# Assuming data_ids is your DataFrame\n",
    "data_ids_df = Tasks_df2[['dataId', 'procInstId']]\n",
    "\n",
    "# Create a thread for each row in the DataFrame\n",
    "threads = []\n",
    "for index, row in data_ids_df.iterrows():\n",
    "    thread = threading.Thread(target=withdraw_task, args=(row,))\n",
    "    threads.append(thread)\n",
    "    thread.start()\n",
    "    time.sleep(0.08)\n",
    "\n",
    "# Wait for all threads to finish\n",
    "for thread in threads:\n",
    "    thread.join()"
   ]
  },
  {
   "cell_type": "code",
   "execution_count": 23,
   "metadata": {},
   "outputs": [
    {
     "name": "stdout",
     "output_type": "stream",
     "text": [
      "e9fa96a8caa871e0ab36de8779d0f0cf6a81dbef7e7e497fa3d89f857d1e4011\n"
     ]
    }
   ],
   "source": [
    "'''\n",
    "ask bulk id\n",
    "'''\n",
    "url_2 = \"https://api-scrm.xiaoshouyi.com/rest/bulk/v2/job\"\n",
    "headers = {\n",
    "    \"Authorization\": f\"Bearer {ac_token}\",\n",
    "    \"Content-Type\":\"application/json\"\n",
    "}\n",
    "data = {\n",
    "     \"data\": {\n",
    "        \"operation\": \"delete\",####################################################################3\n",
    "        \"object\": \"customEntity14__c\",\n",
    "        \"execOption\": [\"CHECK_RULE\", \"CHECK_DUPLICATE\"]\n",
    "    }\n",
    "    \n",
    "}\n",
    "response = requests.post(url_2, headers = headers, json = data)\n",
    "test = response.json()\n",
    "bulk_id = test[\"result\"][\"id\"]\n",
    "print(bulk_id)\n",
    "\n",
    "Tasks_df3 = Tasks_df2[['dataId']]\n",
    "Tasks_df3 = Tasks_df3.rename(columns={'dataId':'id'})\n",
    "#Tasks_df3 = Tasks_df1[['id']]"
   ]
  },
  {
   "cell_type": "code",
   "execution_count": 24,
   "metadata": {},
   "outputs": [],
   "source": [
    "'''\n",
    "delete to crm if dataframe over 5000\n",
    "'''\n",
    "batch_size = 5000\n",
    "\n",
    "# Calculate the number of batches\n",
    "num_batches = (len(Tasks_df3) + batch_size - 1) // batch_size\n",
    "# Initialize a list to store responses\n",
    "all_responses = []\n",
    "# Initialize an index to keep track of the current batch\n",
    "current_batch_index = 0\n",
    "\n",
    "# While there are more batches to process\n",
    "while current_batch_index < num_batches:\n",
    "    start_index = current_batch_index * batch_size\n",
    "    end_index = (current_batch_index + 1) * batch_size\n",
    "    current_batch_df = Tasks_df3.iloc[start_index:end_index]\n",
    "    json_data = current_batch_df.to_dict(orient='records')\n",
    "    \n",
    "    url_2 = \"https://api-scrm.xiaoshouyi.com/rest/bulk/v2/batch\"\n",
    "    headers = {\n",
    "        \"Authorization\": f\"Bearer {ac_token}\",\n",
    "        \"Content-Type\":\"application/json\"\n",
    "    }\n",
    "    data = {\n",
    "        \"data\": {\n",
    "            \"jobId\": f\"{bulk_id}\",\n",
    "            \"datas\": json_data\n",
    "        }\n",
    "    }\n",
    "    response = requests.post(url_2, headers=headers, json=data)\n",
    "    all_responses.append(response)\n",
    "    current_batch_index += 1\n",
    "for response in all_responses:\n",
    "    pass"
   ]
  }
 ],
 "metadata": {
  "kernelspec": {
   "display_name": "web-scraping",
   "language": "python",
   "name": "python3"
  },
  "language_info": {
   "codemirror_mode": {
    "name": "ipython",
    "version": 3
   },
   "file_extension": ".py",
   "mimetype": "text/x-python",
   "name": "python",
   "nbconvert_exporter": "python",
   "pygments_lexer": "ipython3",
   "version": "3.10.13"
  }
 },
 "nbformat": 4,
 "nbformat_minor": 2
}
